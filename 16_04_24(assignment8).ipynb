{
  "nbformat": 4,
  "nbformat_minor": 0,
  "metadata": {
    "colab": {
      "provenance": [],
      "authorship_tag": "ABX9TyN6DB2m1rPFjtqybobPqxhz",
      "include_colab_link": true
    },
    "kernelspec": {
      "name": "python3",
      "display_name": "Python 3"
    },
    "language_info": {
      "name": "python"
    }
  },
  "cells": [
    {
      "cell_type": "markdown",
      "metadata": {
        "id": "view-in-github",
        "colab_type": "text"
      },
      "source": [
        "<a href=\"https://colab.research.google.com/github/sanyam0712/Big-Data-MCA-/blob/main/16_04_24(assignment8).ipynb\" target=\"_parent\"><img src=\"https://colab.research.google.com/assets/colab-badge.svg\" alt=\"Open In Colab\"/></a>"
      ]
    },
    {
      "cell_type": "code",
      "execution_count": 1,
      "metadata": {
        "colab": {
          "base_uri": "https://localhost:8080/"
        },
        "id": "rKnZqktQ5Tnj",
        "outputId": "4c0bea08-416e-481c-8839-16dd2548ab1f"
      },
      "outputs": [
        {
          "output_type": "stream",
          "name": "stdout",
          "text": [
            "0.028290511504922723\n",
            "-0.3379529487033743\n",
            "185.66274295959465\n"
          ]
        }
      ],
      "source": [
        "y = [140,155,159,179,192,200,212,215]\n",
        "x1 = [60,62,67,70,71,72,75,78]\n",
        "x2 = [22,25,24,20,15,14,14,11]\n",
        "\n",
        "\n",
        "x1sq = []\n",
        "x2sq = []\n",
        "x1y = []\n",
        "x2y = []\n",
        "x1x2 = []\n",
        "\n",
        "for i in range(0,8):\n",
        "  x1sq.append(x1[i]*x1[i])\n",
        "  x2sq.append(x2[i]*x2[i])\n",
        "  x1y.append(x1[i]*y[i])\n",
        "  x2y.append(x2[i]*y[i])\n",
        "  x1x2.append(x1[i]*x2[i])\n",
        "\n",
        "X1sq = sum(x1sq) -(sum(x1)^2)/8\n",
        "X2sq = sum(x2sq) -(sum(x2)^2)/8\n",
        "X1Y = sum(x1y) -(sum(x1)*sum(y))/8\n",
        "X2Y = sum(x2y) -(sum(x2)*sum(y))/8\n",
        "X1X2 = sum(x1x2) -(sum(x1)*sum(x2))/8\n",
        "\n",
        "\n",
        "\n",
        "\n",
        "b1 = (X2sq*X1Y - X1X2*X2Y)/(X1sq*X2sq - X1X2*X1X2)\n",
        "b2 = (X1sq * X2Y - X1X2 * X1Y)/(X1sq*X2sq - X1X2*X1X2)\n",
        "b0 = (sum(y)/8)-b1*(sum(x1)/8)-b2 * (sum(x2)/8)\n",
        "\n",
        "\n",
        "print(b1)\n",
        "print(b2)\n",
        "print(b0)"
      ]
    },
    {
      "cell_type": "code",
      "source": [
        "Y = []\n",
        "for i in range(0,8):\n",
        "  Y.append(b0+(b1*x1[i])+(b2*x2[i]))\n",
        "print(Y)\n",
        ""
      ],
      "metadata": {
        "colab": {
          "base_uri": "https://localhost:8080/"
        },
        "id": "or4bEZta5g3_",
        "outputId": "3e19fadd-d80c-4218-dded-419b3ed915bc"
      },
      "execution_count": 2,
      "outputs": [
        {
          "output_type": "stream",
          "name": "stdout",
          "text": [
            "[179.9252087784158, 178.9679309553155, 179.4473364615435, 180.88401979087178, 182.60207504589354, 182.96831850610184, 183.0531900406166, 184.15192042124153]\n"
          ]
        }
      ]
    },
    {
      "cell_type": "code",
      "source": [
        "from sklearn.metrics import r2_score\n",
        "\n",
        "\n",
        "r2_score(y,Y)"
      ],
      "metadata": {
        "colab": {
          "base_uri": "https://localhost:8080/"
        },
        "id": "gzjpuw2s5m8W",
        "outputId": "94403b04-3b3d-477e-b2cb-965cd1035953"
      },
      "execution_count": 3,
      "outputs": [
        {
          "output_type": "execute_result",
          "data": {
            "text/plain": [
              "0.12568024665609978"
            ]
          },
          "metadata": {},
          "execution_count": 3
        }
      ]
    }
  ]
}