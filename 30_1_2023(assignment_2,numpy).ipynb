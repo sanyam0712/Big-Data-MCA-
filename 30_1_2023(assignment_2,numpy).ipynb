{
  "cells": [
    {
      "cell_type": "markdown",
      "metadata": {
        "id": "view-in-github",
        "colab_type": "text"
      },
      "source": [
        "<a href=\"https://colab.research.google.com/github/sanyam0712/Big-Data-MCA-/blob/main/30_1_2023(assignment_2%2Cnumpy).ipynb\" target=\"_parent\"><img src=\"https://colab.research.google.com/assets/colab-badge.svg\" alt=\"Open In Colab\"/></a>"
      ]
    },
    {
      "cell_type": "code",
      "execution_count": null,
      "metadata": {
        "colab": {
          "base_uri": "https://localhost:8080/"
        },
        "id": "BFYOKCm3-3VE",
        "outputId": "7b8111a5-0eb2-482d-f52e-32fb57c8a9c8"
      },
      "outputs": [
        {
          "name": "stdout",
          "output_type": "stream",
          "text": [
            "hello\n"
          ]
        }
      ],
      "source": [
        "print(\"hello\")"
      ]
    },
    {
      "cell_type": "code",
      "execution_count": null,
      "metadata": {
        "colab": {
          "base_uri": "https://localhost:8080/"
        },
        "id": "D3lGM1zm_Sfe",
        "outputId": "ee03489f-708a-4336-f4ac-6bb30f0707d1"
      },
      "outputs": [
        {
          "name": "stdout",
          "output_type": "stream",
          "text": [
            "final array [5 4 6 3 2 1]\n"
          ]
        }
      ],
      "source": [
        "import numpy as np\n",
        "\n",
        "# initialising numpy array\n",
        "ini_array = np.array([1, 2, 3, 6, 4, 5])\n",
        "\n",
        "# using shortcut method to reverse\n",
        "res = np.flip(ini_array)\n",
        "\n",
        "# printing result\n",
        "print(\"final array\", str(res))\n"
      ]
    },
    {
      "cell_type": "code",
      "execution_count": null,
      "metadata": {
        "colab": {
          "base_uri": "https://localhost:8080/"
        },
        "id": "Uw2auZkfDGVd",
        "outputId": "bdebf776-652b-44e9-bca6-cfc88b2aafb1"
      },
      "outputs": [
        {
          "name": "stdout",
          "output_type": "stream",
          "text": [
            "True\n"
          ]
        }
      ],
      "source": [
        "import numpy as np\n",
        "\n",
        "an_array = np.array([[1, 2], [3, 4]])\n",
        "another_array = np.array([[1, 2], [3, 4]])\n",
        "\n",
        "comparison = an_array == another_array\n",
        "equal_arrays = comparison.all()\n",
        "\n",
        "print(equal_arrays)\n"
      ]
    },
    {
      "cell_type": "code",
      "execution_count": null,
      "metadata": {
        "colab": {
          "background_save": true,
          "base_uri": "https://localhost:8080/"
        },
        "id": "bZgstaHAGrm6",
        "outputId": "10ee3fd8-89e3-4314-cc81-99c614b6012a"
      },
      "outputs": [
        {
          "name": "stdout",
          "output_type": "stream",
          "text": [
            "Original array:\n",
            "[1 2 2 3 4 3 5 5 5]\n",
            "Most frequent value in the above array:\n",
            "5\n"
          ]
        }
      ],
      "source": [
        "import numpy as np\n",
        "\n",
        "arr = np.array([1,2,2,3,4,3,5,5,5])\n",
        "print(\"Original array:\")\n",
        "print(arr)\n",
        "\n",
        "print(\"Most frequent value in the above array:\")\n",
        "print(np.bincount(arr).argmax())"
      ]
    },
    {
      "cell_type": "code",
      "execution_count": null,
      "metadata": {
        "id": "M2awFInTITmB",
        "colab": {
          "base_uri": "https://localhost:8080/"
        },
        "outputId": "84bde4ce-e9e6-42da-a3bb-5e48055accbf"
      },
      "outputs": [
        {
          "output_type": "stream",
          "name": "stdout",
          "text": [
            "Matrix:\n",
            "[[ 4  1  9]\n",
            " [12  3  1]\n",
            " [ 4  5  6]]\n",
            "\n",
            "i. Sum of all elements: 45\n",
            "\n",
            "ii. Sum of all elements row-wise:\n",
            "[[14]\n",
            " [16]\n",
            " [15]]\n",
            "\n",
            "iii. Sum of all elements column-wise:\n",
            "[[20  9 16]]\n"
          ]
        }
      ],
      "source": [
        "import numpy as np\n",
        "\n",
        "\n",
        "arr = np.matrix('[4, 1, 9; 12, 3, 1; 4, 5, 6]')\n",
        "\n",
        "\n",
        "total_sum = np.sum(arr)\n",
        "\n",
        "\n",
        "row_sum = np.sum(arr, axis=1)\n",
        "\n",
        "col_sum = np.sum(arr, axis=0)\n",
        "\n",
        "print(\"Matrix:\")\n",
        "print(arr)\n",
        "\n",
        "print(\"\\ni. Sum of all elements:\", total_sum)\n",
        "\n",
        "print(\"\\nii. Sum of all elements row-wise:\")\n",
        "print(row_sum)\n",
        "\n",
        "print(\"\\niii. Sum of all elements column-wise:\")\n",
        "print(col_sum)"
      ]
    },
    {
      "cell_type": "code",
      "source": [],
      "metadata": {
        "id": "_0y9ErZuMzzn"
      },
      "execution_count": null,
      "outputs": []
    }
  ],
  "metadata": {
    "colab": {
      "provenance": [],
      "authorship_tag": "ABX9TyNHOzvpvGuIEFXT6oPKJ+Yw",
      "include_colab_link": true
    },
    "kernelspec": {
      "display_name": "Python 3",
      "name": "python3"
    },
    "language_info": {
      "name": "python"
    }
  },
  "nbformat": 4,
  "nbformat_minor": 0
}